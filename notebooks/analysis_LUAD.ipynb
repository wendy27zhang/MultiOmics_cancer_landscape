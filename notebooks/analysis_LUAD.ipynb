{
 "cells": [
  {
   "cell_type": "markdown",
   "id": "3af86ea7",
   "metadata": {},
   "source": [
    "### This is the notebook for analyzing LUAD data"
   ]
  },
  {
   "cell_type": "markdown",
   "id": "b7d33d89",
   "metadata": {},
   "source": [
    "##### Step 1: organize the data into anndata object"
   ]
  },
  {
   "cell_type": "code",
   "execution_count": 1,
   "id": "4da687ac",
   "metadata": {},
   "outputs": [
    {
     "name": "stdout",
     "output_type": "stream",
     "text": [
      "0.10.9\n"
     ]
    }
   ],
   "source": [
    "import numpy as np\n",
    "import pandas as pd\n",
    "import anndata as ad\n",
    "from scipy.sparse import csr_matrix\n",
    "print(ad.__version__)"
   ]
  },
  {
   "cell_type": "code",
   "execution_count": null,
   "id": "2c48a2a5",
   "metadata": {},
   "outputs": [],
   "source": [
    "\n",
    "cancer_type = \"LUAD\"\n",
    "omic_type = \"proteomics\"\n",
    "\n",
    "# Tumor file\n",
    "sample_type = \"Tumor\"\n",
    "file_tumor = f\"../../MultiOmics_cancer_landscape_data/{cancer_type}/Data/{cancer_type}_{omic_type}_gene_abundance_log2_reference_intensity_normalized_{sample_type}.txt\"\n",
    "\n",
    "\n",
    "# Normal file\n",
    "sample_type = \"Normal\"\n",
    "file_normal = f\"../../MultiOmics_cancer_landscape_data/{cancer_type}/Data/{cancer_type}_{omic_type}_gene_abundance_log2_reference_intensity_normalized_{sample_type}.txt\"\n",
    "\n",
    "# Read data\n",
    "df_tumor = pd.read_csv(file_tumor, sep=\"\\t\")\n",
    "df_normal = pd.read_csv(file_normal, sep=\"\\t\")"
   ]
  },
  {
   "cell_type": "code",
   "execution_count": 20,
   "id": "e462814f",
   "metadata": {},
   "outputs": [
    {
     "name": "stdout",
     "output_type": "stream",
     "text": [
      "AnnData object with n_obs × n_vars = 211 × 12431\n",
      "    obs: 'SampleType', 'Sample'\n",
      "    var: 'Gene', 'GeneID'\n"
     ]
    }
   ],
   "source": [
    "\n",
    "merged_df = pd.merge(df_normal, df_tumor, on=\"idx\", how=\"inner\", suffixes=('_N', '_T'))\n",
    "\n",
    "# The transposed_df is now in the correct format with samples as rows and genes as columns\n",
    "merged_df.set_index(merged_df.columns[0], inplace=True)\n",
    "transposed_df = merged_df.T\n",
    "\n",
    "obs=pd.DataFrame(\n",
    "    index=transposed_df.index, \n",
    "    data={\n",
    "        'SampleType': transposed_df.index.str[-1],  # Last character\n",
    "        'Sample': transposed_df.index.str[:-2]      # All but last character\n",
    "    }\n",
    ")\n",
    "var=pd.DataFrame(\n",
    "    index=transposed_df.columns, \n",
    "    data={\n",
    "        'Gene': transposed_df.columns,  # Last character\n",
    "        'GeneID': transposed_df.columns      # All but last character\n",
    "    }\n",
    ")\n",
    "adata = ad.AnnData(\n",
    "    X=transposed_df,\n",
    "    obs=obs,\n",
    "    var=var\n",
    ")\n",
    "\n",
    "print(adata)\n",
    "\n"
   ]
  },
  {
   "cell_type": "code",
   "execution_count": 24,
   "id": "24e52041",
   "metadata": {},
   "outputs": [
    {
     "data": {
      "text/html": [
       "<div>\n",
       "<style scoped>\n",
       "    .dataframe tbody tr th:only-of-type {\n",
       "        vertical-align: middle;\n",
       "    }\n",
       "\n",
       "    .dataframe tbody tr th {\n",
       "        vertical-align: top;\n",
       "    }\n",
       "\n",
       "    .dataframe thead th {\n",
       "        text-align: right;\n",
       "    }\n",
       "</style>\n",
       "<table border=\"1\" class=\"dataframe\">\n",
       "  <thead>\n",
       "    <tr style=\"text-align: right;\">\n",
       "      <th></th>\n",
       "      <th>SampleType</th>\n",
       "      <th>Sample</th>\n",
       "    </tr>\n",
       "  </thead>\n",
       "  <tbody>\n",
       "    <tr>\n",
       "      <th>C3N-01799_N</th>\n",
       "      <td>N</td>\n",
       "      <td>C3N-01799</td>\n",
       "    </tr>\n",
       "    <tr>\n",
       "      <th>C3L-01890_N</th>\n",
       "      <td>N</td>\n",
       "      <td>C3L-01890</td>\n",
       "    </tr>\n",
       "    <tr>\n",
       "      <th>C3N-00572_N</th>\n",
       "      <td>N</td>\n",
       "      <td>C3N-00572</td>\n",
       "    </tr>\n",
       "    <tr>\n",
       "      <th>C3N-02423_N</th>\n",
       "      <td>N</td>\n",
       "      <td>C3N-02423</td>\n",
       "    </tr>\n",
       "    <tr>\n",
       "      <th>C3N-02729_N</th>\n",
       "      <td>N</td>\n",
       "      <td>C3N-02729</td>\n",
       "    </tr>\n",
       "    <tr>\n",
       "      <th>...</th>\n",
       "      <td>...</td>\n",
       "      <td>...</td>\n",
       "    </tr>\n",
       "    <tr>\n",
       "      <th>C3N-02003_T</th>\n",
       "      <td>T</td>\n",
       "      <td>C3N-02003</td>\n",
       "    </tr>\n",
       "    <tr>\n",
       "      <th>C3N-00175_T</th>\n",
       "      <td>T</td>\n",
       "      <td>C3N-00175</td>\n",
       "    </tr>\n",
       "    <tr>\n",
       "      <th>C3N-01823_T</th>\n",
       "      <td>T</td>\n",
       "      <td>C3N-01823</td>\n",
       "    </tr>\n",
       "    <tr>\n",
       "      <th>C3L-02549_T</th>\n",
       "      <td>T</td>\n",
       "      <td>C3L-02549</td>\n",
       "    </tr>\n",
       "    <tr>\n",
       "      <th>C3L-02365_T</th>\n",
       "      <td>T</td>\n",
       "      <td>C3L-02365</td>\n",
       "    </tr>\n",
       "  </tbody>\n",
       "</table>\n",
       "<p>211 rows × 2 columns</p>\n",
       "</div>"
      ],
      "text/plain": [
       "            SampleType     Sample\n",
       "C3N-01799_N          N  C3N-01799\n",
       "C3L-01890_N          N  C3L-01890\n",
       "C3N-00572_N          N  C3N-00572\n",
       "C3N-02423_N          N  C3N-02423\n",
       "C3N-02729_N          N  C3N-02729\n",
       "...                ...        ...\n",
       "C3N-02003_T          T  C3N-02003\n",
       "C3N-00175_T          T  C3N-00175\n",
       "C3N-01823_T          T  C3N-01823\n",
       "C3L-02549_T          T  C3L-02549\n",
       "C3L-02365_T          T  C3L-02365\n",
       "\n",
       "[211 rows x 2 columns]"
      ]
     },
     "execution_count": 24,
     "metadata": {},
     "output_type": "execute_result"
    }
   ],
   "source": [
    "adata.var_names\n",
    "adata.var\n",
    "adata.obs\n"
   ]
  },
  {
   "cell_type": "code",
   "execution_count": null,
   "id": "1ee11c7f",
   "metadata": {},
   "outputs": [],
   "source": [
    "object_file = f\"../../Object/MultiOmics_cancer_landscape_data/{cancer_type}/{cancer_type}_{omic_type}.h5ad\"\n",
    "\n",
    "adata.write(object_file, compression=\"gzip\")"
   ]
  }
 ],
 "metadata": {
  "kernelspec": {
   "display_name": "multiomics",
   "language": "python",
   "name": "python3"
  },
  "language_info": {
   "codemirror_mode": {
    "name": "ipython",
    "version": 3
   },
   "file_extension": ".py",
   "mimetype": "text/x-python",
   "name": "python",
   "nbconvert_exporter": "python",
   "pygments_lexer": "ipython3",
   "version": "3.9.23"
  }
 },
 "nbformat": 4,
 "nbformat_minor": 5
}
